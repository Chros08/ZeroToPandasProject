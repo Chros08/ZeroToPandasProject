{
 "cells": [
  {
   "cell_type": "markdown",
   "metadata": {},
   "source": [
    "# Analysis of CSGO proffesional matches from 2015 to 2020\n",
    "\n",
    "TODO - Write some introduction about your project here: describe the dataset, where you got it from, what you're trying to do with it, and which tools & techniques you're using. You can also mention about the course [Data Analysis with Python: Zero to Pandas](zerotopandas.com), and what you've learned from it."
   ]
  },
  {
   "cell_type": "markdown",
   "metadata": {},
   "source": [
    "## Downloading the Dataset\n",
    "\n",
    "\n",
    "This dataset contains data about the proffesional CSGO matches from 2015 to 2020, we found that there were 4 csv files, in this case we are going to use the players.csv which contains player's individuals performance per match."
   ]
  },
  {
   "cell_type": "markdown",
   "metadata": {},
   "source": [
    "> Instructions for downloading the dataset (delete this cell)\n",
    ">\n",
    "> - Find an interesting dataset on this page: https://www.kaggle.com/datasets?fileType=csv\n",
    "> - The data should be in CSV format, and should contain at least 3 columns and 150 rows\n",
    "> - Download the dataset using the [`opendatasets` Python library](https://github.com/JovianML/opendatasets#opendatasets)"
   ]
  },
  {
   "cell_type": "code",
   "execution_count": 1,
   "metadata": {},
   "outputs": [],
   "source": [
    "!pip install jovian opendatasets --upgrade --quiet"
   ]
  },
  {
   "cell_type": "markdown",
   "metadata": {},
   "source": [
    "Let's begin by downloading the data, and listing the files within the dataset."
   ]
  },
  {
   "cell_type": "code",
   "execution_count": 2,
   "metadata": {},
   "outputs": [],
   "source": [
    "# Change this\n",
    "dataset_url = 'https://www.kaggle.com/datasets/mateusdmachado/csgo-professional-matches' "
   ]
  },
  {
   "cell_type": "code",
   "execution_count": 3,
   "metadata": {},
   "outputs": [
    {
     "name": "stdout",
     "output_type": "stream",
     "text": [
      "Please provide your Kaggle credentials to download this dataset. Learn more: http://bit.ly/kaggle-creds\n",
      "Your Kaggle username: christiancisneros\n",
      "Your Kaggle Key: ········\n",
      "Downloading csgo-professional-matches.zip to ./csgo-professional-matches\n"
     ]
    },
    {
     "name": "stderr",
     "output_type": "stream",
     "text": [
      "100%|██████████| 36.2M/36.2M [00:00<00:00, 52.9MB/s]\n"
     ]
    },
    {
     "name": "stdout",
     "output_type": "stream",
     "text": [
      "\n"
     ]
    }
   ],
   "source": [
    "import opendatasets as od\n",
    "od.download(dataset_url)"
   ]
  },
  {
   "cell_type": "markdown",
   "metadata": {},
   "source": [
    "The dataset has been downloaded and extracted."
   ]
  },
  {
   "cell_type": "code",
   "execution_count": 4,
   "metadata": {},
   "outputs": [],
   "source": [
    "# Change this\n",
    "data_dir = './csgo-professional-matches'"
   ]
  },
  {
   "cell_type": "code",
   "execution_count": 5,
   "metadata": {},
   "outputs": [
    {
     "data": {
      "text/plain": [
       "['players.csv', 'economy.csv', 'results.csv', 'picks.csv']"
      ]
     },
     "execution_count": 5,
     "metadata": {},
     "output_type": "execute_result"
    }
   ],
   "source": [
    "import os\n",
    "os.listdir(data_dir)"
   ]
  },
  {
   "cell_type": "markdown",
   "metadata": {},
   "source": [
    "Let us save and upload our work to Jovian before continuing."
   ]
  },
  {
   "cell_type": "code",
   "execution_count": 6,
   "metadata": {},
   "outputs": [],
   "source": [
    "project_name = \"zerotopandas-csgo-analysis-project\" # change this (use lowercase letters and hyphens only)"
   ]
  },
  {
   "cell_type": "code",
   "execution_count": 7,
   "metadata": {},
   "outputs": [],
   "source": [
    "!pip install jovian --upgrade -q"
   ]
  },
  {
   "cell_type": "code",
   "execution_count": 8,
   "metadata": {},
   "outputs": [],
   "source": [
    "import jovian"
   ]
  },
  {
   "cell_type": "code",
   "execution_count": 9,
   "metadata": {},
   "outputs": [
    {
     "data": {
      "application/javascript": [
       "window.require && require([\"base/js/namespace\"],function(Jupyter){Jupyter.notebook.save_checkpoint()})"
      ],
      "text/plain": [
       "<IPython.core.display.Javascript object>"
      ]
     },
     "metadata": {},
     "output_type": "display_data"
    },
    {
     "name": "stdout",
     "output_type": "stream",
     "text": [
      "[jovian] Updating notebook \"christian-cisneros-f/zerotopandas-csgo-analysis-project\" on https://jovian.ai\u001b[0m\n",
      "[jovian] Committed successfully! https://jovian.ai/christian-cisneros-f/zerotopandas-csgo-analysis-project\u001b[0m\n"
     ]
    },
    {
     "data": {
      "text/plain": [
       "'https://jovian.ai/christian-cisneros-f/zerotopandas-csgo-analysis-project'"
      ]
     },
     "execution_count": 9,
     "metadata": {},
     "output_type": "execute_result"
    }
   ],
   "source": [
    "jovian.commit(project=project_name)"
   ]
  },
  {
   "cell_type": "markdown",
   "metadata": {},
   "source": [
    "## Data Preparation and Cleaning\n",
    "\n",
    "**TODO** - We will check if there are any null values that can ruin our analysis and also deal with them if we found such cases\n",
    "\n"
   ]
  },
  {
   "cell_type": "markdown",
   "metadata": {},
   "source": [
    "## Loading the dataset players.csv into a dataframe called players_df"
   ]
  },
  {
   "cell_type": "code",
   "execution_count": 10,
   "metadata": {},
   "outputs": [],
   "source": [
    "import pandas as pd\n",
    "players_df= pd.read_csv(\"./csgo-professional-matches/players.csv\")"
   ]
  },
  {
   "cell_type": "markdown",
   "metadata": {},
   "source": [
    "## This dataset contains this number of rows and colums:"
   ]
  },
  {
   "cell_type": "code",
   "execution_count": 11,
   "metadata": {},
   "outputs": [
    {
     "name": "stdout",
     "output_type": "stream",
     "text": [
      "This dataset contains 383317 rows and 101 columns \n"
     ]
    }
   ],
   "source": [
    "print(\"This dataset contains {} rows and {} columns \".format(players_df.shape[0],players_df.shape[1]))"
   ]
  },
  {
   "cell_type": "code",
   "execution_count": 12,
   "metadata": {},
   "outputs": [
    {
     "data": {
      "text/html": [
       "<div>\n",
       "<style scoped>\n",
       "    .dataframe tbody tr th:only-of-type {\n",
       "        vertical-align: middle;\n",
       "    }\n",
       "\n",
       "    .dataframe tbody tr th {\n",
       "        vertical-align: top;\n",
       "    }\n",
       "\n",
       "    .dataframe thead th {\n",
       "        text-align: right;\n",
       "    }\n",
       "</style>\n",
       "<table border=\"1\" class=\"dataframe\">\n",
       "  <thead>\n",
       "    <tr style=\"text-align: right;\">\n",
       "      <th></th>\n",
       "      <th>match_id</th>\n",
       "      <th>player_name</th>\n",
       "      <th>team</th>\n",
       "      <th>opponent</th>\n",
       "      <th>player_id</th>\n",
       "      <th>country</th>\n",
       "      <th>event_id</th>\n",
       "      <th>event_name</th>\n",
       "      <th>best_of</th>\n",
       "      <th>kills</th>\n",
       "      <th>assists</th>\n",
       "      <th>deaths</th>\n",
       "    </tr>\n",
       "  </thead>\n",
       "  <tbody>\n",
       "    <tr>\n",
       "      <th>0</th>\n",
       "      <td>2339385</td>\n",
       "      <td>Brehze</td>\n",
       "      <td>Evil Geniuses</td>\n",
       "      <td>Liquid</td>\n",
       "      <td>9136</td>\n",
       "      <td>United States</td>\n",
       "      <td>4901</td>\n",
       "      <td>IEM Katowice 2020</td>\n",
       "      <td>3</td>\n",
       "      <td>57</td>\n",
       "      <td>14</td>\n",
       "      <td>61</td>\n",
       "    </tr>\n",
       "    <tr>\n",
       "      <th>1</th>\n",
       "      <td>2339385</td>\n",
       "      <td>CeRq</td>\n",
       "      <td>Evil Geniuses</td>\n",
       "      <td>Liquid</td>\n",
       "      <td>11219</td>\n",
       "      <td>Bulgaria</td>\n",
       "      <td>4901</td>\n",
       "      <td>IEM Katowice 2020</td>\n",
       "      <td>3</td>\n",
       "      <td>54</td>\n",
       "      <td>10</td>\n",
       "      <td>54</td>\n",
       "    </tr>\n",
       "    <tr>\n",
       "      <th>2</th>\n",
       "      <td>2339385</td>\n",
       "      <td>EliGE</td>\n",
       "      <td>Liquid</td>\n",
       "      <td>Evil Geniuses</td>\n",
       "      <td>8738</td>\n",
       "      <td>United States</td>\n",
       "      <td>4901</td>\n",
       "      <td>IEM Katowice 2020</td>\n",
       "      <td>3</td>\n",
       "      <td>55</td>\n",
       "      <td>10</td>\n",
       "      <td>51</td>\n",
       "    </tr>\n",
       "    <tr>\n",
       "      <th>3</th>\n",
       "      <td>2339385</td>\n",
       "      <td>Ethan</td>\n",
       "      <td>Evil Geniuses</td>\n",
       "      <td>Liquid</td>\n",
       "      <td>10671</td>\n",
       "      <td>United States</td>\n",
       "      <td>4901</td>\n",
       "      <td>IEM Katowice 2020</td>\n",
       "      <td>3</td>\n",
       "      <td>43</td>\n",
       "      <td>5</td>\n",
       "      <td>54</td>\n",
       "    </tr>\n",
       "    <tr>\n",
       "      <th>4</th>\n",
       "      <td>2339385</td>\n",
       "      <td>NAF</td>\n",
       "      <td>Liquid</td>\n",
       "      <td>Evil Geniuses</td>\n",
       "      <td>8520</td>\n",
       "      <td>Canada</td>\n",
       "      <td>4901</td>\n",
       "      <td>IEM Katowice 2020</td>\n",
       "      <td>3</td>\n",
       "      <td>52</td>\n",
       "      <td>22</td>\n",
       "      <td>46</td>\n",
       "    </tr>\n",
       "    <tr>\n",
       "      <th>...</th>\n",
       "      <td>...</td>\n",
       "      <td>...</td>\n",
       "      <td>...</td>\n",
       "      <td>...</td>\n",
       "      <td>...</td>\n",
       "      <td>...</td>\n",
       "      <td>...</td>\n",
       "      <td>...</td>\n",
       "      <td>...</td>\n",
       "      <td>...</td>\n",
       "      <td>...</td>\n",
       "      <td>...</td>\n",
       "    </tr>\n",
       "    <tr>\n",
       "      <th>383312</th>\n",
       "      <td>2298497</td>\n",
       "      <td>kIMERA</td>\n",
       "      <td>ExAequo</td>\n",
       "      <td>RIP Fonty</td>\n",
       "      <td>7607</td>\n",
       "      <td>Italy</td>\n",
       "      <td>1957</td>\n",
       "      <td>Milan Games Week 2015 League by FACEIT</td>\n",
       "      <td>2</td>\n",
       "      <td>30</td>\n",
       "      <td>2</td>\n",
       "      <td>17</td>\n",
       "    </tr>\n",
       "    <tr>\n",
       "      <th>383313</th>\n",
       "      <td>2298497</td>\n",
       "      <td>morphiw0w</td>\n",
       "      <td>ExAequo</td>\n",
       "      <td>RIP Fonty</td>\n",
       "      <td>9752</td>\n",
       "      <td>Italy</td>\n",
       "      <td>1957</td>\n",
       "      <td>Milan Games Week 2015 League by FACEIT</td>\n",
       "      <td>2</td>\n",
       "      <td>26</td>\n",
       "      <td>6</td>\n",
       "      <td>22</td>\n",
       "    </tr>\n",
       "    <tr>\n",
       "      <th>383314</th>\n",
       "      <td>2298497</td>\n",
       "      <td>overfly</td>\n",
       "      <td>RIP Fonty</td>\n",
       "      <td>ExAequo</td>\n",
       "      <td>7698</td>\n",
       "      <td>Italy</td>\n",
       "      <td>1957</td>\n",
       "      <td>Milan Games Week 2015 League by FACEIT</td>\n",
       "      <td>2</td>\n",
       "      <td>28</td>\n",
       "      <td>4</td>\n",
       "      <td>34</td>\n",
       "    </tr>\n",
       "    <tr>\n",
       "      <th>383315</th>\n",
       "      <td>2298497</td>\n",
       "      <td>simozor</td>\n",
       "      <td>RIP Fonty</td>\n",
       "      <td>ExAequo</td>\n",
       "      <td>9753</td>\n",
       "      <td>Italy</td>\n",
       "      <td>1957</td>\n",
       "      <td>Milan Games Week 2015 League by FACEIT</td>\n",
       "      <td>2</td>\n",
       "      <td>18</td>\n",
       "      <td>7</td>\n",
       "      <td>36</td>\n",
       "    </tr>\n",
       "    <tr>\n",
       "      <th>383316</th>\n",
       "      <td>2298497</td>\n",
       "      <td>xullE</td>\n",
       "      <td>RIP Fonty</td>\n",
       "      <td>ExAequo</td>\n",
       "      <td>9754</td>\n",
       "      <td>Italy</td>\n",
       "      <td>1957</td>\n",
       "      <td>Milan Games Week 2015 League by FACEIT</td>\n",
       "      <td>2</td>\n",
       "      <td>14</td>\n",
       "      <td>2</td>\n",
       "      <td>35</td>\n",
       "    </tr>\n",
       "  </tbody>\n",
       "</table>\n",
       "<p>383317 rows × 12 columns</p>\n",
       "</div>"
      ],
      "text/plain": [
       "        match_id player_name           team       opponent  player_id  \\\n",
       "0        2339385      Brehze  Evil Geniuses         Liquid       9136   \n",
       "1        2339385        CeRq  Evil Geniuses         Liquid      11219   \n",
       "2        2339385       EliGE         Liquid  Evil Geniuses       8738   \n",
       "3        2339385       Ethan  Evil Geniuses         Liquid      10671   \n",
       "4        2339385         NAF         Liquid  Evil Geniuses       8520   \n",
       "...          ...         ...            ...            ...        ...   \n",
       "383312   2298497      kIMERA        ExAequo      RIP Fonty       7607   \n",
       "383313   2298497   morphiw0w        ExAequo      RIP Fonty       9752   \n",
       "383314   2298497     overfly      RIP Fonty        ExAequo       7698   \n",
       "383315   2298497     simozor      RIP Fonty        ExAequo       9753   \n",
       "383316   2298497       xullE      RIP Fonty        ExAequo       9754   \n",
       "\n",
       "              country  event_id                              event_name  \\\n",
       "0       United States      4901                       IEM Katowice 2020   \n",
       "1            Bulgaria      4901                       IEM Katowice 2020   \n",
       "2       United States      4901                       IEM Katowice 2020   \n",
       "3       United States      4901                       IEM Katowice 2020   \n",
       "4              Canada      4901                       IEM Katowice 2020   \n",
       "...               ...       ...                                     ...   \n",
       "383312          Italy      1957  Milan Games Week 2015 League by FACEIT   \n",
       "383313          Italy      1957  Milan Games Week 2015 League by FACEIT   \n",
       "383314          Italy      1957  Milan Games Week 2015 League by FACEIT   \n",
       "383315          Italy      1957  Milan Games Week 2015 League by FACEIT   \n",
       "383316          Italy      1957  Milan Games Week 2015 League by FACEIT   \n",
       "\n",
       "        best_of  kills  assists  deaths  \n",
       "0             3     57       14      61  \n",
       "1             3     54       10      54  \n",
       "2             3     55       10      51  \n",
       "3             3     43        5      54  \n",
       "4             3     52       22      46  \n",
       "...         ...    ...      ...     ...  \n",
       "383312        2     30        2      17  \n",
       "383313        2     26        6      22  \n",
       "383314        2     28        4      34  \n",
       "383315        2     18        7      36  \n",
       "383316        2     14        2      35  \n",
       "\n",
       "[383317 rows x 12 columns]"
      ]
     },
     "execution_count": 12,
     "metadata": {},
     "output_type": "execute_result"
    }
   ],
   "source": [
    "match_df=players_df[['match_id','player_name','team','opponent','player_id','country','event_id','event_name','best_of','kills','assists','deaths']]\n",
    "match_df\n",
    "#match_df.loc[match_df['player_name']==\"EliGE\"]"
   ]
  },
  {
   "cell_type": "markdown",
   "metadata": {},
   "source": [
    "## We will be analizing this short dataframe for now\n",
    "First we will check if there are missing values in the dataframe"
   ]
  },
  {
   "cell_type": "code",
   "execution_count": 13,
   "metadata": {},
   "outputs": [
    {
     "name": "stdout",
     "output_type": "stream",
     "text": [
      "<class 'pandas.core.frame.DataFrame'>\n",
      "RangeIndex: 383317 entries, 0 to 383316\n",
      "Data columns (total 12 columns):\n",
      " #   Column       Non-Null Count   Dtype \n",
      "---  ------       --------------   ----- \n",
      " 0   match_id     383317 non-null  int64 \n",
      " 1   player_name  383316 non-null  object\n",
      " 2   team         383317 non-null  object\n",
      " 3   opponent     383317 non-null  object\n",
      " 4   player_id    383317 non-null  int64 \n",
      " 5   country      383317 non-null  object\n",
      " 6   event_id     383317 non-null  int64 \n",
      " 7   event_name   383317 non-null  object\n",
      " 8   best_of      383317 non-null  int64 \n",
      " 9   kills        383317 non-null  int64 \n",
      " 10  assists      383317 non-null  int64 \n",
      " 11  deaths       383317 non-null  int64 \n",
      "dtypes: int64(7), object(5)\n",
      "memory usage: 35.1+ MB\n"
     ]
    }
   ],
   "source": [
    "match_df.info()"
   ]
  },
  {
   "cell_type": "markdown",
   "metadata": {},
   "source": [
    "We can see that there are 383317 non nulls match_ids but one less player_name"
   ]
  },
  {
   "cell_type": "code",
   "execution_count": 14,
   "metadata": {
    "scrolled": true
   },
   "outputs": [
    {
     "data": {
      "text/html": [
       "<div>\n",
       "<style scoped>\n",
       "    .dataframe tbody tr th:only-of-type {\n",
       "        vertical-align: middle;\n",
       "    }\n",
       "\n",
       "    .dataframe tbody tr th {\n",
       "        vertical-align: top;\n",
       "    }\n",
       "\n",
       "    .dataframe thead th {\n",
       "        text-align: right;\n",
       "    }\n",
       "</style>\n",
       "<table border=\"1\" class=\"dataframe\">\n",
       "  <thead>\n",
       "    <tr style=\"text-align: right;\">\n",
       "      <th></th>\n",
       "      <th>match_id</th>\n",
       "      <th>player_name</th>\n",
       "      <th>team</th>\n",
       "      <th>opponent</th>\n",
       "      <th>player_id</th>\n",
       "      <th>country</th>\n",
       "      <th>event_id</th>\n",
       "      <th>event_name</th>\n",
       "      <th>best_of</th>\n",
       "      <th>kills</th>\n",
       "      <th>assists</th>\n",
       "      <th>deaths</th>\n",
       "    </tr>\n",
       "  </thead>\n",
       "  <tbody>\n",
       "    <tr>\n",
       "      <th>359054</th>\n",
       "      <td>2301329</td>\n",
       "      <td>NaN</td>\n",
       "      <td>TSG</td>\n",
       "      <td>LDDM</td>\n",
       "      <td>10831</td>\n",
       "      <td>Brazil</td>\n",
       "      <td>2170</td>\n",
       "      <td>Razer Rising Stars South American League Quali...</td>\n",
       "      <td>1</td>\n",
       "      <td>15</td>\n",
       "      <td>0</td>\n",
       "      <td>19</td>\n",
       "    </tr>\n",
       "  </tbody>\n",
       "</table>\n",
       "</div>"
      ],
      "text/plain": [
       "        match_id player_name team opponent  player_id country  event_id  \\\n",
       "359054   2301329         NaN  TSG     LDDM      10831  Brazil      2170   \n",
       "\n",
       "                                               event_name  best_of  kills  \\\n",
       "359054  Razer Rising Stars South American League Quali...        1     15   \n",
       "\n",
       "        assists  deaths  \n",
       "359054        0      19  "
      ]
     },
     "execution_count": 14,
     "metadata": {},
     "output_type": "execute_result"
    }
   ],
   "source": [
    "match_df.loc[match_df['player_name'].isnull()]\n"
   ]
  },
  {
   "cell_type": "code",
   "execution_count": 15,
   "metadata": {},
   "outputs": [
    {
     "data": {
      "text/html": [
       "<div>\n",
       "<style scoped>\n",
       "    .dataframe tbody tr th:only-of-type {\n",
       "        vertical-align: middle;\n",
       "    }\n",
       "\n",
       "    .dataframe tbody tr th {\n",
       "        vertical-align: top;\n",
       "    }\n",
       "\n",
       "    .dataframe thead th {\n",
       "        text-align: right;\n",
       "    }\n",
       "</style>\n",
       "<table border=\"1\" class=\"dataframe\">\n",
       "  <thead>\n",
       "    <tr style=\"text-align: right;\">\n",
       "      <th></th>\n",
       "      <th>match_id</th>\n",
       "      <th>player_name</th>\n",
       "      <th>team</th>\n",
       "      <th>opponent</th>\n",
       "      <th>player_id</th>\n",
       "      <th>country</th>\n",
       "      <th>event_id</th>\n",
       "      <th>event_name</th>\n",
       "      <th>best_of</th>\n",
       "      <th>kills</th>\n",
       "      <th>assists</th>\n",
       "      <th>deaths</th>\n",
       "    </tr>\n",
       "  </thead>\n",
       "  <tbody>\n",
       "    <tr>\n",
       "      <th>359054</th>\n",
       "      <td>2301329</td>\n",
       "      <td>NaN</td>\n",
       "      <td>TSG</td>\n",
       "      <td>LDDM</td>\n",
       "      <td>10831</td>\n",
       "      <td>Brazil</td>\n",
       "      <td>2170</td>\n",
       "      <td>Razer Rising Stars South American League Quali...</td>\n",
       "      <td>1</td>\n",
       "      <td>15</td>\n",
       "      <td>0</td>\n",
       "      <td>19</td>\n",
       "    </tr>\n",
       "  </tbody>\n",
       "</table>\n",
       "</div>"
      ],
      "text/plain": [
       "        match_id player_name team opponent  player_id country  event_id  \\\n",
       "359054   2301329         NaN  TSG     LDDM      10831  Brazil      2170   \n",
       "\n",
       "                                               event_name  best_of  kills  \\\n",
       "359054  Razer Rising Stars South American League Quali...        1     15   \n",
       "\n",
       "        assists  deaths  \n",
       "359054        0      19  "
      ]
     },
     "execution_count": 15,
     "metadata": {},
     "output_type": "execute_result"
    }
   ],
   "source": [
    "match_df.loc[match_df['player_id']==10831]"
   ]
  },
  {
   "cell_type": "markdown",
   "metadata": {},
   "source": [
    "## We can see that there is one player that doesnt have a player_name and it seems like he only has one registered match, since its only one we can either drop it or leave it there, for this example im going to take out the row"
   ]
  },
  {
   "cell_type": "code",
   "execution_count": 16,
   "metadata": {},
   "outputs": [
    {
     "data": {
      "text/plain": [
       "(383316, 12)"
      ]
     },
     "execution_count": 16,
     "metadata": {},
     "output_type": "execute_result"
    }
   ],
   "source": [
    "match_df=match_df[match_df['player_name'].notna()]\n",
    "match_df.shape"
   ]
  },
  {
   "cell_type": "markdown",
   "metadata": {},
   "source": [
    "There were 383317 rows × 12 columns but now there is one less row"
   ]
  },
  {
   "cell_type": "code",
   "execution_count": 17,
   "metadata": {},
   "outputs": [],
   "source": [
    "import jovian"
   ]
  },
  {
   "cell_type": "code",
   "execution_count": 18,
   "metadata": {},
   "outputs": [
    {
     "data": {
      "application/javascript": [
       "window.require && require([\"base/js/namespace\"],function(Jupyter){Jupyter.notebook.save_checkpoint()})"
      ],
      "text/plain": [
       "<IPython.core.display.Javascript object>"
      ]
     },
     "metadata": {},
     "output_type": "display_data"
    },
    {
     "name": "stdout",
     "output_type": "stream",
     "text": [
      "[jovian] Updating notebook \"christian-cisneros-f/zerotopandas-csgo-analysis-project\" on https://jovian.ai\u001b[0m\n",
      "[jovian] Committed successfully! https://jovian.ai/christian-cisneros-f/zerotopandas-csgo-analysis-project\u001b[0m\n"
     ]
    },
    {
     "data": {
      "text/plain": [
       "'https://jovian.ai/christian-cisneros-f/zerotopandas-csgo-analysis-project'"
      ]
     },
     "execution_count": 18,
     "metadata": {},
     "output_type": "execute_result"
    }
   ],
   "source": [
    "jovian.commit()"
   ]
  },
  {
   "cell_type": "markdown",
   "metadata": {},
   "source": [
    "## We will be getting some data from the dataframe like\n",
    "1.We want to know which country has the most matches played"
   ]
  },
  {
   "cell_type": "code",
   "execution_count": 19,
   "metadata": {},
   "outputs": [
    {
     "data": {
      "text/html": [
       "<div>\n",
       "<style scoped>\n",
       "    .dataframe tbody tr th:only-of-type {\n",
       "        vertical-align: middle;\n",
       "    }\n",
       "\n",
       "    .dataframe tbody tr th {\n",
       "        vertical-align: top;\n",
       "    }\n",
       "\n",
       "    .dataframe thead th {\n",
       "        text-align: right;\n",
       "    }\n",
       "</style>\n",
       "<table border=\"1\" class=\"dataframe\">\n",
       "  <thead>\n",
       "    <tr style=\"text-align: right;\">\n",
       "      <th></th>\n",
       "      <th>country</th>\n",
       "      <th>match_id</th>\n",
       "    </tr>\n",
       "  </thead>\n",
       "  <tbody>\n",
       "    <tr>\n",
       "      <th>0</th>\n",
       "      <td>United States</td>\n",
       "      <td>2339385</td>\n",
       "    </tr>\n",
       "    <tr>\n",
       "      <th>1</th>\n",
       "      <td>Bulgaria</td>\n",
       "      <td>2339385</td>\n",
       "    </tr>\n",
       "    <tr>\n",
       "      <th>2</th>\n",
       "      <td>Canada</td>\n",
       "      <td>2339385</td>\n",
       "    </tr>\n",
       "    <tr>\n",
       "      <th>3</th>\n",
       "      <td>United Kingdom</td>\n",
       "      <td>2339391</td>\n",
       "    </tr>\n",
       "    <tr>\n",
       "      <th>4</th>\n",
       "      <td>Bosnia and Herzegovina</td>\n",
       "      <td>2339391</td>\n",
       "    </tr>\n",
       "    <tr>\n",
       "      <th>...</th>\n",
       "      <td>...</td>\n",
       "      <td>...</td>\n",
       "    </tr>\n",
       "    <tr>\n",
       "      <th>104858</th>\n",
       "      <td>Sweden</td>\n",
       "      <td>2298484</td>\n",
       "    </tr>\n",
       "    <tr>\n",
       "      <th>104859</th>\n",
       "      <td>Spain</td>\n",
       "      <td>2298510</td>\n",
       "    </tr>\n",
       "    <tr>\n",
       "      <th>104860</th>\n",
       "      <td>Norway</td>\n",
       "      <td>2298490</td>\n",
       "    </tr>\n",
       "    <tr>\n",
       "      <th>104861</th>\n",
       "      <td>Poland</td>\n",
       "      <td>2298490</td>\n",
       "    </tr>\n",
       "    <tr>\n",
       "      <th>104862</th>\n",
       "      <td>Italy</td>\n",
       "      <td>2298497</td>\n",
       "    </tr>\n",
       "  </tbody>\n",
       "</table>\n",
       "<p>104863 rows × 2 columns</p>\n",
       "</div>"
      ],
      "text/plain": [
       "                       country  match_id\n",
       "0                United States   2339385\n",
       "1                     Bulgaria   2339385\n",
       "2                       Canada   2339385\n",
       "3               United Kingdom   2339391\n",
       "4       Bosnia and Herzegovina   2339391\n",
       "...                        ...       ...\n",
       "104858                  Sweden   2298484\n",
       "104859                   Spain   2298510\n",
       "104860                  Norway   2298490\n",
       "104861                  Poland   2298490\n",
       "104862                   Italy   2298497\n",
       "\n",
       "[104863 rows x 2 columns]"
      ]
     },
     "execution_count": 19,
     "metadata": {},
     "output_type": "execute_result"
    }
   ],
   "source": [
    "df1=match_df[['country','match_id']]\n",
    "df1 = df1[['country','match_id']].drop_duplicates()\n",
    "df1 = df1.reset_index(drop=True)\n",
    "df1"
   ]
  },
  {
   "cell_type": "code",
   "execution_count": 20,
   "metadata": {
    "scrolled": false
   },
   "outputs": [
    {
     "data": {
      "text/html": [
       "<div>\n",
       "<style scoped>\n",
       "    .dataframe tbody tr th:only-of-type {\n",
       "        vertical-align: middle;\n",
       "    }\n",
       "\n",
       "    .dataframe tbody tr th {\n",
       "        vertical-align: top;\n",
       "    }\n",
       "\n",
       "    .dataframe thead th {\n",
       "        text-align: right;\n",
       "    }\n",
       "</style>\n",
       "<table border=\"1\" class=\"dataframe\">\n",
       "  <thead>\n",
       "    <tr style=\"text-align: right;\">\n",
       "      <th></th>\n",
       "      <th>country</th>\n",
       "      <th>Counts</th>\n",
       "    </tr>\n",
       "  </thead>\n",
       "  <tbody>\n",
       "    <tr>\n",
       "      <th>0</th>\n",
       "      <td>United States</td>\n",
       "      <td>7850</td>\n",
       "    </tr>\n",
       "    <tr>\n",
       "      <th>14</th>\n",
       "      <td>Denmark</td>\n",
       "      <td>7113</td>\n",
       "    </tr>\n",
       "    <tr>\n",
       "      <th>8</th>\n",
       "      <td>Sweden</td>\n",
       "      <td>6741</td>\n",
       "    </tr>\n",
       "    <tr>\n",
       "      <th>2</th>\n",
       "      <td>Canada</td>\n",
       "      <td>6027</td>\n",
       "    </tr>\n",
       "    <tr>\n",
       "      <th>17</th>\n",
       "      <td>Russia</td>\n",
       "      <td>5675</td>\n",
       "    </tr>\n",
       "    <tr>\n",
       "      <th>7</th>\n",
       "      <td>Brazil</td>\n",
       "      <td>4236</td>\n",
       "    </tr>\n",
       "    <tr>\n",
       "      <th>58</th>\n",
       "      <td>Poland</td>\n",
       "      <td>3929</td>\n",
       "    </tr>\n",
       "    <tr>\n",
       "      <th>24</th>\n",
       "      <td>Australia</td>\n",
       "      <td>3813</td>\n",
       "    </tr>\n",
       "    <tr>\n",
       "      <th>5</th>\n",
       "      <td>France</td>\n",
       "      <td>3732</td>\n",
       "    </tr>\n",
       "    <tr>\n",
       "      <th>19</th>\n",
       "      <td>Ukraine</td>\n",
       "      <td>3636</td>\n",
       "    </tr>\n",
       "  </tbody>\n",
       "</table>\n",
       "</div>"
      ],
      "text/plain": [
       "          country  Counts\n",
       "0   United States    7850\n",
       "14        Denmark    7113\n",
       "8          Sweden    6741\n",
       "2          Canada    6027\n",
       "17         Russia    5675\n",
       "7          Brazil    4236\n",
       "58         Poland    3929\n",
       "24      Australia    3813\n",
       "5          France    3732\n",
       "19        Ukraine    3636"
      ]
     },
     "execution_count": 20,
     "metadata": {},
     "output_type": "execute_result"
    }
   ],
   "source": [
    "\n",
    "df1['Counts'] = df1.groupby(['country'])['match_id'].transform('count')\n",
    "df2 = df1[['country','Counts']].drop_duplicates()\n",
    "df2=df2.sort_values('Counts',ascending=False)\n",
    "df2.head(10)\n",
    "\n"
   ]
  },
  {
   "cell_type": "code",
   "execution_count": 21,
   "metadata": {
    "scrolled": false
   },
   "outputs": [
    {
     "name": "stdout",
     "output_type": "stream",
     "text": [
      "The country with most matches played is United States with 7850 matches\n"
     ]
    }
   ],
   "source": [
    "print(\"The country with most matches played is {} with {} matches\".format(df2.at[0,'country'],df2.at[0,'Counts']))"
   ]
  },
  {
   "cell_type": "markdown",
   "metadata": {},
   "source": [
    "We can also search for any country\n",
    "Lets search my country Perú!"
   ]
  },
  {
   "cell_type": "code",
   "execution_count": 22,
   "metadata": {},
   "outputs": [
    {
     "name": "stdout",
     "output_type": "stream",
     "text": [
      "Peru has 159 matches played\n"
     ]
    }
   ],
   "source": [
    "df2.loc[df2['country']==\"Peru\"]\n",
    "country=df2.loc[df2['country']==\"Peru\"].at[1968,'country']\n",
    "value=df2.loc[df2['country']==\"Peru\"].at[1968,'Counts']\n",
    "print(\"{} has {} matches played\".format(country,value))"
   ]
  },
  {
   "cell_type": "markdown",
   "metadata": {},
   "source": [
    "## Exploratory Analysis and Visualization\n",
    "\n",
    "**TODO** - We will now grab some interesting data with their respective graphs\n",
    "\n"
   ]
  },
  {
   "cell_type": "markdown",
   "metadata": {},
   "source": [
    "Let's begin by importing`matplotlib.pyplot` and `seaborn`."
   ]
  },
  {
   "cell_type": "code",
   "execution_count": 23,
   "metadata": {},
   "outputs": [],
   "source": [
    "import seaborn as sns\n",
    "import matplotlib\n",
    "import matplotlib.pyplot as plt\n",
    "%matplotlib inline\n",
    "\n",
    "sns.set_style('darkgrid')\n",
    "matplotlib.rcParams['font.size'] = 14\n",
    "matplotlib.rcParams['figure.figsize'] = (9, 5)\n",
    "matplotlib.rcParams['figure.facecolor'] = '#00000000'"
   ]
  },
  {
   "cell_type": "markdown",
   "metadata": {},
   "source": [
    "**TODO** - Explore one or more columns by plotting a graph below, and add some explanation about it\n",
    "## WE WILL SEE THE 10 COUNTRIES WITH MOST MATCHES PLAYED"
   ]
  },
  {
   "cell_type": "code",
   "execution_count": 24,
   "metadata": {},
   "outputs": [
    {
     "data": {
      "text/html": [
       "<div>\n",
       "<style scoped>\n",
       "    .dataframe tbody tr th:only-of-type {\n",
       "        vertical-align: middle;\n",
       "    }\n",
       "\n",
       "    .dataframe tbody tr th {\n",
       "        vertical-align: top;\n",
       "    }\n",
       "\n",
       "    .dataframe thead th {\n",
       "        text-align: right;\n",
       "    }\n",
       "</style>\n",
       "<table border=\"1\" class=\"dataframe\">\n",
       "  <thead>\n",
       "    <tr style=\"text-align: right;\">\n",
       "      <th></th>\n",
       "      <th>country</th>\n",
       "      <th>Counts</th>\n",
       "    </tr>\n",
       "  </thead>\n",
       "  <tbody>\n",
       "    <tr>\n",
       "      <th>0</th>\n",
       "      <td>United States</td>\n",
       "      <td>7850</td>\n",
       "    </tr>\n",
       "    <tr>\n",
       "      <th>1</th>\n",
       "      <td>Denmark</td>\n",
       "      <td>7113</td>\n",
       "    </tr>\n",
       "    <tr>\n",
       "      <th>2</th>\n",
       "      <td>Sweden</td>\n",
       "      <td>6741</td>\n",
       "    </tr>\n",
       "    <tr>\n",
       "      <th>3</th>\n",
       "      <td>Canada</td>\n",
       "      <td>6027</td>\n",
       "    </tr>\n",
       "    <tr>\n",
       "      <th>4</th>\n",
       "      <td>Russia</td>\n",
       "      <td>5675</td>\n",
       "    </tr>\n",
       "    <tr>\n",
       "      <th>5</th>\n",
       "      <td>Brazil</td>\n",
       "      <td>4236</td>\n",
       "    </tr>\n",
       "    <tr>\n",
       "      <th>6</th>\n",
       "      <td>Poland</td>\n",
       "      <td>3929</td>\n",
       "    </tr>\n",
       "    <tr>\n",
       "      <th>7</th>\n",
       "      <td>Australia</td>\n",
       "      <td>3813</td>\n",
       "    </tr>\n",
       "    <tr>\n",
       "      <th>8</th>\n",
       "      <td>France</td>\n",
       "      <td>3732</td>\n",
       "    </tr>\n",
       "    <tr>\n",
       "      <th>9</th>\n",
       "      <td>Ukraine</td>\n",
       "      <td>3636</td>\n",
       "    </tr>\n",
       "  </tbody>\n",
       "</table>\n",
       "</div>"
      ],
      "text/plain": [
       "         country  Counts\n",
       "0  United States    7850\n",
       "1        Denmark    7113\n",
       "2         Sweden    6741\n",
       "3         Canada    6027\n",
       "4         Russia    5675\n",
       "5         Brazil    4236\n",
       "6         Poland    3929\n",
       "7      Australia    3813\n",
       "8         France    3732\n",
       "9        Ukraine    3636"
      ]
     },
     "execution_count": 24,
     "metadata": {},
     "output_type": "execute_result"
    }
   ],
   "source": [
    "matches_per_country_df=df2.reset_index(drop=True)\n",
    "first_10_df=matches_per_country_df.head(10)\n",
    "first_10_df"
   ]
  },
  {
   "cell_type": "code",
   "execution_count": 25,
   "metadata": {},
   "outputs": [
    {
     "data": {
      "image/png": "[encoded data removed]",
      "text/plain": [
       "<Figure size 1440x432 with 1 Axes>"
      ]
     },
     "metadata": {
      "needs_background": "light"
     },
     "output_type": "display_data"
    }
   ],
   "source": [
    "plt.figure(figsize=(20, 6))\n",
    "plt.bar(first_10_df.country, first_10_df.Counts)\n",
    "plt.title('Ten countries with most matches played')\n",
    "plt.show()"
   ]
  },
  {
   "cell_type": "markdown",
   "metadata": {},
   "source": [
    "**TODO** - Explore one or more columns by plotting a graph below, and add some explanation about it"
   ]
  },
  {
   "cell_type": "markdown",
   "metadata": {},
   "source": [
    "## We will see the relationship between kills and deaths"
   ]
  },
  {
   "cell_type": "code",
   "execution_count": 26,
   "metadata": {},
   "outputs": [
    {
     "data": {
      "text/plain": [
       "<AxesSubplot:xlabel='kills', ylabel='deaths'>"
      ]
     },
     "execution_count": 26,
     "metadata": {},
     "output_type": "execute_result"
    },
    {
     "data": {
      "image/png": "[encoded data removed]",
      "text/plain": [
       "<Figure size 648x360 with 1 Axes>"
      ]
     },
     "metadata": {
      "needs_background": "light"
     },
     "output_type": "display_data"
    }
   ],
   "source": [
    "sns.scatterplot(x=match_df.kills, y=match_df.deaths)"
   ]
  },
  {
   "cell_type": "markdown",
   "metadata": {},
   "source": [
    "We can see that kills and deaths are related"
   ]
  },
  {
   "cell_type": "markdown",
   "metadata": {},
   "source": [
    "**TODO** - Explore one or more columns by plotting a graph below, and add some explanation about it"
   ]
  },
  {
   "cell_type": "markdown",
   "metadata": {},
   "source": [
    "For this one we will be extracting a different dataframe from the big dataset"
   ]
  },
  {
   "cell_type": "code",
   "execution_count": 27,
   "metadata": {},
   "outputs": [
    {
     "data": {
      "text/html": [
       "<div>\n",
       "<style scoped>\n",
       "    .dataframe tbody tr th:only-of-type {\n",
       "        vertical-align: middle;\n",
       "    }\n",
       "\n",
       "    .dataframe tbody tr th {\n",
       "        vertical-align: top;\n",
       "    }\n",
       "\n",
       "    .dataframe thead th {\n",
       "        text-align: right;\n",
       "    }\n",
       "</style>\n",
       "<table border=\"1\" class=\"dataframe\">\n",
       "  <thead>\n",
       "    <tr style=\"text-align: right;\">\n",
       "      <th></th>\n",
       "      <th>date</th>\n",
       "      <th>match_id</th>\n",
       "    </tr>\n",
       "  </thead>\n",
       "  <tbody>\n",
       "    <tr>\n",
       "      <th>0</th>\n",
       "      <td>2020-02-26</td>\n",
       "      <td>2339385</td>\n",
       "    </tr>\n",
       "    <tr>\n",
       "      <th>1</th>\n",
       "      <td>2020-02-26</td>\n",
       "      <td>2339391</td>\n",
       "    </tr>\n",
       "    <tr>\n",
       "      <th>2</th>\n",
       "      <td>2020-02-26</td>\n",
       "      <td>2339384</td>\n",
       "    </tr>\n",
       "    <tr>\n",
       "      <th>3</th>\n",
       "      <td>2020-02-26</td>\n",
       "      <td>2339390</td>\n",
       "    </tr>\n",
       "    <tr>\n",
       "      <th>4</th>\n",
       "      <td>2020-02-26</td>\n",
       "      <td>2339389</td>\n",
       "    </tr>\n",
       "    <tr>\n",
       "      <th>...</th>\n",
       "      <td>...</td>\n",
       "      <td>...</td>\n",
       "    </tr>\n",
       "    <tr>\n",
       "      <th>38370</th>\n",
       "      <td>2015-10-07</td>\n",
       "      <td>2298487</td>\n",
       "    </tr>\n",
       "    <tr>\n",
       "      <th>38371</th>\n",
       "      <td>2015-10-07</td>\n",
       "      <td>2298484</td>\n",
       "    </tr>\n",
       "    <tr>\n",
       "      <th>38372</th>\n",
       "      <td>2015-10-07</td>\n",
       "      <td>2298510</td>\n",
       "    </tr>\n",
       "    <tr>\n",
       "      <th>38373</th>\n",
       "      <td>2015-10-07</td>\n",
       "      <td>2298490</td>\n",
       "    </tr>\n",
       "    <tr>\n",
       "      <th>38374</th>\n",
       "      <td>2015-10-07</td>\n",
       "      <td>2298497</td>\n",
       "    </tr>\n",
       "  </tbody>\n",
       "</table>\n",
       "<p>38375 rows × 2 columns</p>\n",
       "</div>"
      ],
      "text/plain": [
       "             date  match_id\n",
       "0      2020-02-26   2339385\n",
       "1      2020-02-26   2339391\n",
       "2      2020-02-26   2339384\n",
       "3      2020-02-26   2339390\n",
       "4      2020-02-26   2339389\n",
       "...           ...       ...\n",
       "38370  2015-10-07   2298487\n",
       "38371  2015-10-07   2298484\n",
       "38372  2015-10-07   2298510\n",
       "38373  2015-10-07   2298490\n",
       "38374  2015-10-07   2298497\n",
       "\n",
       "[38375 rows x 2 columns]"
      ]
     },
     "execution_count": 27,
     "metadata": {},
     "output_type": "execute_result"
    }
   ],
   "source": [
    "date_df=players_df[['date','match_id']]\n",
    "date_df=date_df.drop_duplicates()\n",
    "date_df=date_df.reset_index(drop=True)\n",
    "date_df\n"
   ]
  },
  {
   "cell_type": "markdown",
   "metadata": {},
   "source": [
    "## We will be adding the name of a day as a column"
   ]
  },
  {
   "cell_type": "code",
   "execution_count": 28,
   "metadata": {
    "scrolled": true
   },
   "outputs": [
    {
     "data": {
      "text/plain": [
       "0       2020-02-26\n",
       "1       2020-02-26\n",
       "2       2020-02-26\n",
       "3       2020-02-26\n",
       "4       2020-02-26\n",
       "           ...    \n",
       "38370   2015-10-07\n",
       "38371   2015-10-07\n",
       "38372   2015-10-07\n",
       "38373   2015-10-07\n",
       "38374   2015-10-07\n",
       "Name: date, Length: 38375, dtype: datetime64[ns]"
      ]
     },
     "execution_count": 28,
     "metadata": {},
     "output_type": "execute_result"
    }
   ],
   "source": [
    "#First we need to convent the dtype object to datetime64\n",
    "date_df['date']=pd.to_datetime(date_df.date)\n",
    "date_df['date']"
   ]
  },
  {
   "cell_type": "code",
   "execution_count": 29,
   "metadata": {},
   "outputs": [
    {
     "data": {
      "text/html": [
       "<div>\n",
       "<style scoped>\n",
       "    .dataframe tbody tr th:only-of-type {\n",
       "        vertical-align: middle;\n",
       "    }\n",
       "\n",
       "    .dataframe tbody tr th {\n",
       "        vertical-align: top;\n",
       "    }\n",
       "\n",
       "    .dataframe thead th {\n",
       "        text-align: right;\n",
       "    }\n",
       "</style>\n",
       "<table border=\"1\" class=\"dataframe\">\n",
       "  <thead>\n",
       "    <tr style=\"text-align: right;\">\n",
       "      <th></th>\n",
       "      <th>date</th>\n",
       "      <th>match_id</th>\n",
       "      <th>weekday</th>\n",
       "    </tr>\n",
       "  </thead>\n",
       "  <tbody>\n",
       "    <tr>\n",
       "      <th>0</th>\n",
       "      <td>2020-02-26</td>\n",
       "      <td>2339385</td>\n",
       "      <td>Wednesday</td>\n",
       "    </tr>\n",
       "    <tr>\n",
       "      <th>1</th>\n",
       "      <td>2020-02-26</td>\n",
       "      <td>2339391</td>\n",
       "      <td>Wednesday</td>\n",
       "    </tr>\n",
       "    <tr>\n",
       "      <th>2</th>\n",
       "      <td>2020-02-26</td>\n",
       "      <td>2339384</td>\n",
       "      <td>Wednesday</td>\n",
       "    </tr>\n",
       "    <tr>\n",
       "      <th>3</th>\n",
       "      <td>2020-02-26</td>\n",
       "      <td>2339390</td>\n",
       "      <td>Wednesday</td>\n",
       "    </tr>\n",
       "    <tr>\n",
       "      <th>4</th>\n",
       "      <td>2020-02-26</td>\n",
       "      <td>2339389</td>\n",
       "      <td>Wednesday</td>\n",
       "    </tr>\n",
       "    <tr>\n",
       "      <th>...</th>\n",
       "      <td>...</td>\n",
       "      <td>...</td>\n",
       "      <td>...</td>\n",
       "    </tr>\n",
       "    <tr>\n",
       "      <th>38370</th>\n",
       "      <td>2015-10-07</td>\n",
       "      <td>2298487</td>\n",
       "      <td>Wednesday</td>\n",
       "    </tr>\n",
       "    <tr>\n",
       "      <th>38371</th>\n",
       "      <td>2015-10-07</td>\n",
       "      <td>2298484</td>\n",
       "      <td>Wednesday</td>\n",
       "    </tr>\n",
       "    <tr>\n",
       "      <th>38372</th>\n",
       "      <td>2015-10-07</td>\n",
       "      <td>2298510</td>\n",
       "      <td>Wednesday</td>\n",
       "    </tr>\n",
       "    <tr>\n",
       "      <th>38373</th>\n",
       "      <td>2015-10-07</td>\n",
       "      <td>2298490</td>\n",
       "      <td>Wednesday</td>\n",
       "    </tr>\n",
       "    <tr>\n",
       "      <th>38374</th>\n",
       "      <td>2015-10-07</td>\n",
       "      <td>2298497</td>\n",
       "      <td>Wednesday</td>\n",
       "    </tr>\n",
       "  </tbody>\n",
       "</table>\n",
       "<p>38375 rows × 3 columns</p>\n",
       "</div>"
      ],
      "text/plain": [
       "            date  match_id    weekday\n",
       "0     2020-02-26   2339385  Wednesday\n",
       "1     2020-02-26   2339391  Wednesday\n",
       "2     2020-02-26   2339384  Wednesday\n",
       "3     2020-02-26   2339390  Wednesday\n",
       "4     2020-02-26   2339389  Wednesday\n",
       "...          ...       ...        ...\n",
       "38370 2015-10-07   2298487  Wednesday\n",
       "38371 2015-10-07   2298484  Wednesday\n",
       "38372 2015-10-07   2298510  Wednesday\n",
       "38373 2015-10-07   2298490  Wednesday\n",
       "38374 2015-10-07   2298497  Wednesday\n",
       "\n",
       "[38375 rows x 3 columns]"
      ]
     },
     "execution_count": 29,
     "metadata": {},
     "output_type": "execute_result"
    }
   ],
   "source": [
    "date_df['weekday']=date_df['date'].dt.day_name()\n",
    "## we mistankenly added a column day as weekday , we can drop that column with\n",
    "#date_df.drop(columns=['day'],inplace=True)\n",
    "date_df"
   ]
  },
  {
   "cell_type": "markdown",
   "metadata": {},
   "source": [
    "**TODO** - We will see how the matches are distributed by weekday"
   ]
  },
  {
   "cell_type": "code",
   "execution_count": 30,
   "metadata": {},
   "outputs": [
    {
     "data": {
      "text/html": [
       "<div>\n",
       "<style scoped>\n",
       "    .dataframe tbody tr th:only-of-type {\n",
       "        vertical-align: middle;\n",
       "    }\n",
       "\n",
       "    .dataframe tbody tr th {\n",
       "        vertical-align: top;\n",
       "    }\n",
       "\n",
       "    .dataframe thead th {\n",
       "        text-align: right;\n",
       "    }\n",
       "</style>\n",
       "<table border=\"1\" class=\"dataframe\">\n",
       "  <thead>\n",
       "    <tr style=\"text-align: right;\">\n",
       "      <th></th>\n",
       "      <th>weekday</th>\n",
       "      <th>count</th>\n",
       "    </tr>\n",
       "  </thead>\n",
       "  <tbody>\n",
       "    <tr>\n",
       "      <th>92</th>\n",
       "      <td>Friday</td>\n",
       "      <td>5634</td>\n",
       "    </tr>\n",
       "    <tr>\n",
       "      <th>54</th>\n",
       "      <td>Monday</td>\n",
       "      <td>3431</td>\n",
       "    </tr>\n",
       "    <tr>\n",
       "      <th>81</th>\n",
       "      <td>Saturday</td>\n",
       "      <td>6119</td>\n",
       "    </tr>\n",
       "    <tr>\n",
       "      <th>68</th>\n",
       "      <td>Sunday</td>\n",
       "      <td>5678</td>\n",
       "    </tr>\n",
       "    <tr>\n",
       "      <th>6</th>\n",
       "      <td>Thursday</td>\n",
       "      <td>6692</td>\n",
       "    </tr>\n",
       "    <tr>\n",
       "      <th>36</th>\n",
       "      <td>Tuesday</td>\n",
       "      <td>4797</td>\n",
       "    </tr>\n",
       "    <tr>\n",
       "      <th>0</th>\n",
       "      <td>Wednesday</td>\n",
       "      <td>6024</td>\n",
       "    </tr>\n",
       "  </tbody>\n",
       "</table>\n",
       "</div>"
      ],
      "text/plain": [
       "      weekday  count\n",
       "92     Friday   5634\n",
       "54     Monday   3431\n",
       "81   Saturday   6119\n",
       "68     Sunday   5678\n",
       "6    Thursday   6692\n",
       "36    Tuesday   4797\n",
       "0   Wednesday   6024"
      ]
     },
     "execution_count": 30,
     "metadata": {},
     "output_type": "execute_result"
    }
   ],
   "source": [
    "date_df['count'] = date_df.groupby(['weekday'])['match_id'].transform('count')\n",
    "new_date_df = date_df[['weekday','count']].drop_duplicates()\n",
    "new_date_df=new_date_df.sort_values('weekday',ascending=True)\n",
    "new_date_df"
   ]
  },
  {
   "cell_type": "code",
   "execution_count": 31,
   "metadata": {},
   "outputs": [
    {
     "data": {
      "text/plain": [
       "Text(0, 0.5, 'Matches')"
      ]
     },
     "execution_count": 31,
     "metadata": {},
     "output_type": "execute_result"
    },
    {
     "data": {
      "image/png": "[encoded data removed]",
      "text/plain": [
       "<Figure size 648x360 with 1 Axes>"
      ]
     },
     "metadata": {
      "needs_background": "light"
     },
     "output_type": "display_data"
    }
   ],
   "source": [
    "field = \"weekday\"\n",
    "day_order = [\"Monday\", \"Tuesday\", \"Wednesday\", \"Thursday\", \"Friday\", \"Saturday\", \"Sunday\"]\n",
    "ax = new_date_df.set_index(field).loc[day_order].plot(kind=\"bar\", legend=False)\n",
    "ax.set_ylabel(\"Matches\")\n"
   ]
  },
  {
   "cell_type": "markdown",
   "metadata": {},
   "source": [
    "We see that thursday is the weekday where most matches were played"
   ]
  },
  {
   "cell_type": "markdown",
   "metadata": {},
   "source": [
    "**TODO** - We will see the map distribution per match, we will only take in consideration the first map from each match"
   ]
  },
  {
   "cell_type": "code",
   "execution_count": 32,
   "metadata": {},
   "outputs": [
    {
     "data": {
      "text/html": [
       "<div>\n",
       "<style scoped>\n",
       "    .dataframe tbody tr th:only-of-type {\n",
       "        vertical-align: middle;\n",
       "    }\n",
       "\n",
       "    .dataframe tbody tr th {\n",
       "        vertical-align: top;\n",
       "    }\n",
       "\n",
       "    .dataframe thead th {\n",
       "        text-align: right;\n",
       "    }\n",
       "</style>\n",
       "<table border=\"1\" class=\"dataframe\">\n",
       "  <thead>\n",
       "    <tr style=\"text-align: right;\">\n",
       "      <th></th>\n",
       "      <th>map_1</th>\n",
       "      <th>count</th>\n",
       "    </tr>\n",
       "  </thead>\n",
       "  <tbody>\n",
       "    <tr>\n",
       "      <th>0</th>\n",
       "      <td>Overpass</td>\n",
       "      <td>4471</td>\n",
       "    </tr>\n",
       "    <tr>\n",
       "      <th>10</th>\n",
       "      <td>Mirage</td>\n",
       "      <td>8038</td>\n",
       "    </tr>\n",
       "    <tr>\n",
       "      <th>20</th>\n",
       "      <td>Dust2</td>\n",
       "      <td>3283</td>\n",
       "    </tr>\n",
       "    <tr>\n",
       "      <th>50</th>\n",
       "      <td>Inferno</td>\n",
       "      <td>6185</td>\n",
       "    </tr>\n",
       "    <tr>\n",
       "      <th>80</th>\n",
       "      <td>Nuke</td>\n",
       "      <td>2945</td>\n",
       "    </tr>\n",
       "    <tr>\n",
       "      <th>110</th>\n",
       "      <td>Vertigo</td>\n",
       "      <td>380</td>\n",
       "    </tr>\n",
       "    <tr>\n",
       "      <th>160</th>\n",
       "      <td>Train</td>\n",
       "      <td>5060</td>\n",
       "    </tr>\n",
       "    <tr>\n",
       "      <th>4079</th>\n",
       "      <td>Default</td>\n",
       "      <td>287</td>\n",
       "    </tr>\n",
       "    <tr>\n",
       "      <th>9959</th>\n",
       "      <td>Cobblestone</td>\n",
       "      <td>3187</td>\n",
       "    </tr>\n",
       "    <tr>\n",
       "      <th>16955</th>\n",
       "      <td>Cache</td>\n",
       "      <td>4539</td>\n",
       "    </tr>\n",
       "  </tbody>\n",
       "</table>\n",
       "</div>"
      ],
      "text/plain": [
       "             map_1  count\n",
       "0         Overpass   4471\n",
       "10          Mirage   8038\n",
       "20           Dust2   3283\n",
       "50         Inferno   6185\n",
       "80            Nuke   2945\n",
       "110        Vertigo    380\n",
       "160          Train   5060\n",
       "4079       Default    287\n",
       "9959   Cobblestone   3187\n",
       "16955        Cache   4539"
      ]
     },
     "execution_count": 32,
     "metadata": {},
     "output_type": "execute_result"
    }
   ],
   "source": [
    "map_df=players_df[['match_id','map_1']]\n",
    "map_df=map_df.drop_duplicates()\n",
    "map_df['count'] = map_df.groupby(['map_1'])['match_id'].transform('count')\n",
    "new_map_df= map_df[['map_1','count']].drop_duplicates()\n",
    "new_map_df\n"
   ]
  },
  {
   "cell_type": "code",
   "execution_count": 33,
   "metadata": {},
   "outputs": [
    {
     "data": {
      "text/plain": [
       "Text(0.5, 1.0, 'Map Distribution')"
      ]
     },
     "execution_count": 33,
     "metadata": {},
     "output_type": "execute_result"
    },
    {
     "data": {
      "image/png": "[encoded data removed]",
      "text/plain": [
       "<Figure size 1440x432 with 1 Axes>"
      ]
     },
     "metadata": {
      "needs_background": "light"
     },
     "output_type": "display_data"
    }
   ],
   "source": [
    "plt.figure(figsize=(20, 6))\n",
    "plt.barh(new_map_df['map_1'],new_map_df['count'])\n",
    "plt.title(\"Map Distribution\")"
   ]
  },
  {
   "cell_type": "markdown",
   "metadata": {},
   "source": [
    "Let us save and upload our work to Jovian before continuing"
   ]
  },
  {
   "cell_type": "code",
   "execution_count": 34,
   "metadata": {},
   "outputs": [],
   "source": [
    "import jovian"
   ]
  },
  {
   "cell_type": "code",
   "execution_count": 35,
   "metadata": {},
   "outputs": [
    {
     "data": {
      "application/javascript": [
       "window.require && require([\"base/js/namespace\"],function(Jupyter){Jupyter.notebook.save_checkpoint()})"
      ],
      "text/plain": [
       "<IPython.core.display.Javascript object>"
      ]
     },
     "metadata": {},
     "output_type": "display_data"
    },
    {
     "name": "stdout",
     "output_type": "stream",
     "text": [
      "[jovian] Updating notebook \"christian-cisneros-f/zerotopandas-csgo-analysis-project\" on https://jovian.ai\u001b[0m\n",
      "[jovian] Committed successfully! https://jovian.ai/christian-cisneros-f/zerotopandas-csgo-analysis-project\u001b[0m\n"
     ]
    },
    {
     "data": {
      "text/plain": [
       "'https://jovian.ai/christian-cisneros-f/zerotopandas-csgo-analysis-project'"
      ]
     },
     "execution_count": 35,
     "metadata": {},
     "output_type": "execute_result"
    }
   ],
   "source": [
    "jovian.commit()"
   ]
  },
  {
   "cell_type": "markdown",
   "metadata": {},
   "source": [
    "## Asking and Answering Questions\n",
    "\n",
    "TODO - write some explanation here.\n",
    "\n"
   ]
  },
  {
   "cell_type": "markdown",
   "metadata": {},
   "source": [
    "#### Q1: TODO - What is the average kill per match"
   ]
  },
  {
   "cell_type": "code",
   "execution_count": 36,
   "metadata": {
    "scrolled": true
   },
   "outputs": [
    {
     "name": "stdout",
     "output_type": "stream",
     "text": [
      "The average kills per match is 29.95578321802377\n"
     ]
    }
   ],
   "source": [
    "average_kills= match_df.kills.mean()\n",
    "print(\"The average kills per match is {}\".format(average_kills))"
   ]
  },
  {
   "cell_type": "markdown",
   "metadata": {},
   "source": [
    "### The average kills per match is 29.95578321802377\n"
   ]
  },
  {
   "cell_type": "markdown",
   "metadata": {},
   "source": [
    "#### Q2: TODO - Which games modes are most played and how many are they"
   ]
  },
  {
   "cell_type": "code",
   "execution_count": 37,
   "metadata": {},
   "outputs": [
    {
     "name": "stderr",
     "output_type": "stream",
     "text": [
      "/tmp/ipykernel_59/1471117545.py:3: SettingWithCopyWarning: \n",
      "A value is trying to be set on a copy of a slice from a DataFrame.\n",
      "Try using .loc[row_indexer,col_indexer] = value instead\n",
      "\n",
      "See the caveats in the documentation: https://pandas.pydata.org/pandas-docs/stable/user_guide/indexing.html#returning-a-view-versus-a-copy\n",
      "  game_mode_df['count']=game_mode_df.groupby('best_of').transform('count')\n"
     ]
    },
    {
     "data": {
      "text/html": [
       "<div>\n",
       "<style scoped>\n",
       "    .dataframe tbody tr th:only-of-type {\n",
       "        vertical-align: middle;\n",
       "    }\n",
       "\n",
       "    .dataframe tbody tr th {\n",
       "        vertical-align: top;\n",
       "    }\n",
       "\n",
       "    .dataframe thead th {\n",
       "        text-align: right;\n",
       "    }\n",
       "</style>\n",
       "<table border=\"1\" class=\"dataframe\">\n",
       "  <thead>\n",
       "    <tr style=\"text-align: right;\">\n",
       "      <th></th>\n",
       "      <th>best_of</th>\n",
       "      <th>count</th>\n",
       "    </tr>\n",
       "  </thead>\n",
       "  <tbody>\n",
       "    <tr>\n",
       "      <th>0</th>\n",
       "      <td>3</td>\n",
       "      <td>178728</td>\n",
       "    </tr>\n",
       "    <tr>\n",
       "      <th>60</th>\n",
       "      <td>1</td>\n",
       "      <td>185253</td>\n",
       "    </tr>\n",
       "    <tr>\n",
       "      <th>1370</th>\n",
       "      <td>2</td>\n",
       "      <td>15650</td>\n",
       "    </tr>\n",
       "    <tr>\n",
       "      <th>4648</th>\n",
       "      <td>5</td>\n",
       "      <td>3685</td>\n",
       "    </tr>\n",
       "  </tbody>\n",
       "</table>\n",
       "</div>"
      ],
      "text/plain": [
       "      best_of   count\n",
       "0           3  178728\n",
       "60          1  185253\n",
       "1370        2   15650\n",
       "4648        5    3685"
      ]
     },
     "execution_count": 37,
     "metadata": {},
     "output_type": "execute_result"
    }
   ],
   "source": [
    "game_mode_df=match_df[['match_id','best_of']]\n",
    "game_mode_df.drop_duplicates()\n",
    "game_mode_df['count']=game_mode_df.groupby('best_of').transform('count')\n",
    "newdf = game_mode_df[['best_of','count']].drop_duplicates()\n",
    "newdf"
   ]
  },
  {
   "cell_type": "markdown",
   "metadata": {},
   "source": [
    "### There are 4 gamemodes and the most played game mode is best of 1 with 185253 games\n"
   ]
  },
  {
   "cell_type": "markdown",
   "metadata": {},
   "source": [
    "#### Q3: TODO - Which event had the most matches"
   ]
  },
  {
   "cell_type": "code",
   "execution_count": 38,
   "metadata": {
    "scrolled": false
   },
   "outputs": [
    {
     "data": {
      "text/plain": [
       "<bound method DataFrame.drop_duplicates of         match_id                              event_name\n",
       "0        2339385                       IEM Katowice 2020\n",
       "1        2339385                       IEM Katowice 2020\n",
       "2        2339385                       IEM Katowice 2020\n",
       "3        2339385                       IEM Katowice 2020\n",
       "4        2339385                       IEM Katowice 2020\n",
       "...          ...                                     ...\n",
       "383312   2298497  Milan Games Week 2015 League by FACEIT\n",
       "383313   2298497  Milan Games Week 2015 League by FACEIT\n",
       "383314   2298497  Milan Games Week 2015 League by FACEIT\n",
       "383315   2298497  Milan Games Week 2015 League by FACEIT\n",
       "383316   2298497  Milan Games Week 2015 League by FACEIT\n",
       "\n",
       "[383316 rows x 2 columns]>"
      ]
     },
     "execution_count": 38,
     "metadata": {},
     "output_type": "execute_result"
    }
   ],
   "source": [
    "events_df=match_df[['match_id','event_name']]\n",
    "events_df.drop_duplicates\n"
   ]
  },
  {
   "cell_type": "code",
   "execution_count": 39,
   "metadata": {},
   "outputs": [
    {
     "data": {
      "text/html": [
       "<div>\n",
       "<style scoped>\n",
       "    .dataframe tbody tr th:only-of-type {\n",
       "        vertical-align: middle;\n",
       "    }\n",
       "\n",
       "    .dataframe tbody tr th {\n",
       "        vertical-align: top;\n",
       "    }\n",
       "\n",
       "    .dataframe thead th {\n",
       "        text-align: right;\n",
       "    }\n",
       "</style>\n",
       "<table border=\"1\" class=\"dataframe\">\n",
       "  <thead>\n",
       "    <tr style=\"text-align: right;\">\n",
       "      <th></th>\n",
       "      <th>match_id</th>\n",
       "    </tr>\n",
       "    <tr>\n",
       "      <th>event_name</th>\n",
       "      <th></th>\n",
       "    </tr>\n",
       "  </thead>\n",
       "  <tbody>\n",
       "    <tr>\n",
       "      <th>ESL Pro League Season 3</th>\n",
       "      <td>2580</td>\n",
       "    </tr>\n",
       "    <tr>\n",
       "      <th>ESEA MDL Season 27 Europe</th>\n",
       "      <td>2200</td>\n",
       "    </tr>\n",
       "    <tr>\n",
       "      <th>ESEA MDL Season 28 Europe</th>\n",
       "      <td>2150</td>\n",
       "    </tr>\n",
       "    <tr>\n",
       "      <th>ESEA MDL Season 26 Europe</th>\n",
       "      <td>2130</td>\n",
       "    </tr>\n",
       "    <tr>\n",
       "      <th>Bets.net Challenger Series</th>\n",
       "      <td>2009</td>\n",
       "    </tr>\n",
       "    <tr>\n",
       "      <th>...</th>\n",
       "      <td>...</td>\n",
       "    </tr>\n",
       "    <tr>\n",
       "      <th>EsportFest 2016</th>\n",
       "      <td>10</td>\n",
       "    </tr>\n",
       "    <tr>\n",
       "      <th>Stream.me CIS Challenger League #3</th>\n",
       "      <td>10</td>\n",
       "    </tr>\n",
       "    <tr>\n",
       "      <th>2016 D-Fire Lan Final</th>\n",
       "      <td>10</td>\n",
       "    </tr>\n",
       "    <tr>\n",
       "      <th>WESG 2017 Iberia LAN Female</th>\n",
       "      <td>9</td>\n",
       "    </tr>\n",
       "    <tr>\n",
       "      <th>World Championships 2016 Oceanic Qualifier</th>\n",
       "      <td>8</td>\n",
       "    </tr>\n",
       "  </tbody>\n",
       "</table>\n",
       "<p>3158 rows × 1 columns</p>\n",
       "</div>"
      ],
      "text/plain": [
       "                                            match_id\n",
       "event_name                                          \n",
       "ESL Pro League Season 3                         2580\n",
       "ESEA MDL Season 27 Europe                       2200\n",
       "ESEA MDL Season 28 Europe                       2150\n",
       "ESEA MDL Season 26 Europe                       2130\n",
       "Bets.net Challenger Series                      2009\n",
       "...                                              ...\n",
       "EsportFest 2016                                   10\n",
       "Stream.me CIS Challenger League #3                10\n",
       "2016 D-Fire Lan Final                             10\n",
       "WESG 2017 Iberia LAN Female                        9\n",
       "World Championships 2016 Oceanic Qualifier         8\n",
       "\n",
       "[3158 rows x 1 columns]"
      ]
     },
     "execution_count": 39,
     "metadata": {},
     "output_type": "execute_result"
    }
   ],
   "source": [
    "big_event=events_df.groupby('event_name').count().sort_values('match_id',ascending=False)\n",
    "big_event"
   ]
  },
  {
   "cell_type": "markdown",
   "metadata": {},
   "source": [
    "### We can see that the event that had the most games is ESL Pro League Season 3\n"
   ]
  },
  {
   "cell_type": "markdown",
   "metadata": {},
   "source": [
    "#### Q4: TODO - How many times have Liquid and Astralis played each other"
   ]
  },
  {
   "cell_type": "code",
   "execution_count": 40,
   "metadata": {},
   "outputs": [
    {
     "data": {
      "text/html": [
       "<div>\n",
       "<style scoped>\n",
       "    .dataframe tbody tr th:only-of-type {\n",
       "        vertical-align: middle;\n",
       "    }\n",
       "\n",
       "    .dataframe tbody tr th {\n",
       "        vertical-align: top;\n",
       "    }\n",
       "\n",
       "    .dataframe thead th {\n",
       "        text-align: right;\n",
       "    }\n",
       "</style>\n",
       "<table border=\"1\" class=\"dataframe\">\n",
       "  <thead>\n",
       "    <tr style=\"text-align: right;\">\n",
       "      <th></th>\n",
       "      <th>match_id</th>\n",
       "      <th>team</th>\n",
       "      <th>opponent</th>\n",
       "    </tr>\n",
       "  </thead>\n",
       "  <tbody>\n",
       "    <tr>\n",
       "      <th>11407</th>\n",
       "      <td>2337844</td>\n",
       "      <td>Liquid</td>\n",
       "      <td>Astralis</td>\n",
       "    </tr>\n",
       "    <tr>\n",
       "      <th>12217</th>\n",
       "      <td>2337843</td>\n",
       "      <td>Liquid</td>\n",
       "      <td>Astralis</td>\n",
       "    </tr>\n",
       "    <tr>\n",
       "      <th>14495</th>\n",
       "      <td>2338065</td>\n",
       "      <td>Liquid</td>\n",
       "      <td>Astralis</td>\n",
       "    </tr>\n",
       "    <tr>\n",
       "      <th>15144</th>\n",
       "      <td>2337795</td>\n",
       "      <td>Liquid</td>\n",
       "      <td>Astralis</td>\n",
       "    </tr>\n",
       "    <tr>\n",
       "      <th>21971</th>\n",
       "      <td>2337263</td>\n",
       "      <td>Liquid</td>\n",
       "      <td>Astralis</td>\n",
       "    </tr>\n",
       "    <tr>\n",
       "      <th>30777</th>\n",
       "      <td>2336445</td>\n",
       "      <td>Liquid</td>\n",
       "      <td>Astralis</td>\n",
       "    </tr>\n",
       "    <tr>\n",
       "      <th>37858</th>\n",
       "      <td>2335650</td>\n",
       "      <td>Liquid</td>\n",
       "      <td>Astralis</td>\n",
       "    </tr>\n",
       "    <tr>\n",
       "      <th>49327</th>\n",
       "      <td>2334355</td>\n",
       "      <td>Liquid</td>\n",
       "      <td>Astralis</td>\n",
       "    </tr>\n",
       "    <tr>\n",
       "      <th>69016</th>\n",
       "      <td>2332203</td>\n",
       "      <td>Liquid</td>\n",
       "      <td>Astralis</td>\n",
       "    </tr>\n",
       "    <tr>\n",
       "      <th>73553</th>\n",
       "      <td>2331599</td>\n",
       "      <td>Liquid</td>\n",
       "      <td>Astralis</td>\n",
       "    </tr>\n",
       "    <tr>\n",
       "      <th>74133</th>\n",
       "      <td>2331585</td>\n",
       "      <td>Liquid</td>\n",
       "      <td>Astralis</td>\n",
       "    </tr>\n",
       "    <tr>\n",
       "      <th>88472</th>\n",
       "      <td>2330350</td>\n",
       "      <td>Liquid</td>\n",
       "      <td>Astralis</td>\n",
       "    </tr>\n",
       "    <tr>\n",
       "      <th>94303</th>\n",
       "      <td>2329680</td>\n",
       "      <td>Liquid</td>\n",
       "      <td>Astralis</td>\n",
       "    </tr>\n",
       "    <tr>\n",
       "      <th>95103</th>\n",
       "      <td>2329672</td>\n",
       "      <td>Liquid</td>\n",
       "      <td>Astralis</td>\n",
       "    </tr>\n",
       "    <tr>\n",
       "      <th>101351</th>\n",
       "      <td>2328810</td>\n",
       "      <td>Liquid</td>\n",
       "      <td>Astralis</td>\n",
       "    </tr>\n",
       "    <tr>\n",
       "      <th>121370</th>\n",
       "      <td>2326426</td>\n",
       "      <td>Liquid</td>\n",
       "      <td>Astralis</td>\n",
       "    </tr>\n",
       "    <tr>\n",
       "      <th>123088</th>\n",
       "      <td>2326404</td>\n",
       "      <td>Liquid</td>\n",
       "      <td>Astralis</td>\n",
       "    </tr>\n",
       "    <tr>\n",
       "      <th>137126</th>\n",
       "      <td>2324814</td>\n",
       "      <td>Liquid</td>\n",
       "      <td>Astralis</td>\n",
       "    </tr>\n",
       "    <tr>\n",
       "      <th>138796</th>\n",
       "      <td>2324806</td>\n",
       "      <td>Liquid</td>\n",
       "      <td>Astralis</td>\n",
       "    </tr>\n",
       "    <tr>\n",
       "      <th>150702</th>\n",
       "      <td>2323569</td>\n",
       "      <td>Liquid</td>\n",
       "      <td>Astralis</td>\n",
       "    </tr>\n",
       "    <tr>\n",
       "      <th>151412</th>\n",
       "      <td>2323561</td>\n",
       "      <td>Liquid</td>\n",
       "      <td>Astralis</td>\n",
       "    </tr>\n",
       "    <tr>\n",
       "      <th>156900</th>\n",
       "      <td>2322780</td>\n",
       "      <td>Liquid</td>\n",
       "      <td>Astralis</td>\n",
       "    </tr>\n",
       "    <tr>\n",
       "      <th>157729</th>\n",
       "      <td>2322814</td>\n",
       "      <td>Liquid</td>\n",
       "      <td>Astralis</td>\n",
       "    </tr>\n",
       "    <tr>\n",
       "      <th>165528</th>\n",
       "      <td>2322008</td>\n",
       "      <td>Liquid</td>\n",
       "      <td>Astralis</td>\n",
       "    </tr>\n",
       "    <tr>\n",
       "      <th>184870</th>\n",
       "      <td>2320079</td>\n",
       "      <td>Liquid</td>\n",
       "      <td>Astralis</td>\n",
       "    </tr>\n",
       "    <tr>\n",
       "      <th>188388</th>\n",
       "      <td>2319665</td>\n",
       "      <td>Liquid</td>\n",
       "      <td>Astralis</td>\n",
       "    </tr>\n",
       "    <tr>\n",
       "      <th>204963</th>\n",
       "      <td>2317641</td>\n",
       "      <td>Liquid</td>\n",
       "      <td>Astralis</td>\n",
       "    </tr>\n",
       "    <tr>\n",
       "      <th>219936</th>\n",
       "      <td>2316285</td>\n",
       "      <td>Liquid</td>\n",
       "      <td>Astralis</td>\n",
       "    </tr>\n",
       "    <tr>\n",
       "      <th>230449</th>\n",
       "      <td>2314506</td>\n",
       "      <td>Liquid</td>\n",
       "      <td>Astralis</td>\n",
       "    </tr>\n",
       "    <tr>\n",
       "      <th>236310</th>\n",
       "      <td>2314761</td>\n",
       "      <td>Liquid</td>\n",
       "      <td>Astralis</td>\n",
       "    </tr>\n",
       "    <tr>\n",
       "      <th>236440</th>\n",
       "      <td>2314755</td>\n",
       "      <td>Liquid</td>\n",
       "      <td>Astralis</td>\n",
       "    </tr>\n",
       "    <tr>\n",
       "      <th>260905</th>\n",
       "      <td>2311690</td>\n",
       "      <td>Liquid</td>\n",
       "      <td>Astralis</td>\n",
       "    </tr>\n",
       "    <tr>\n",
       "      <th>261305</th>\n",
       "      <td>2311683</td>\n",
       "      <td>Liquid</td>\n",
       "      <td>Astralis</td>\n",
       "    </tr>\n",
       "    <tr>\n",
       "      <th>301808</th>\n",
       "      <td>2307541</td>\n",
       "      <td>Liquid</td>\n",
       "      <td>Astralis</td>\n",
       "    </tr>\n",
       "    <tr>\n",
       "      <th>310456</th>\n",
       "      <td>2306662</td>\n",
       "      <td>Liquid</td>\n",
       "      <td>Astralis</td>\n",
       "    </tr>\n",
       "  </tbody>\n",
       "</table>\n",
       "</div>"
      ],
      "text/plain": [
       "        match_id    team  opponent\n",
       "11407    2337844  Liquid  Astralis\n",
       "12217    2337843  Liquid  Astralis\n",
       "14495    2338065  Liquid  Astralis\n",
       "15144    2337795  Liquid  Astralis\n",
       "21971    2337263  Liquid  Astralis\n",
       "30777    2336445  Liquid  Astralis\n",
       "37858    2335650  Liquid  Astralis\n",
       "49327    2334355  Liquid  Astralis\n",
       "69016    2332203  Liquid  Astralis\n",
       "73553    2331599  Liquid  Astralis\n",
       "74133    2331585  Liquid  Astralis\n",
       "88472    2330350  Liquid  Astralis\n",
       "94303    2329680  Liquid  Astralis\n",
       "95103    2329672  Liquid  Astralis\n",
       "101351   2328810  Liquid  Astralis\n",
       "121370   2326426  Liquid  Astralis\n",
       "123088   2326404  Liquid  Astralis\n",
       "137126   2324814  Liquid  Astralis\n",
       "138796   2324806  Liquid  Astralis\n",
       "150702   2323569  Liquid  Astralis\n",
       "151412   2323561  Liquid  Astralis\n",
       "156900   2322780  Liquid  Astralis\n",
       "157729   2322814  Liquid  Astralis\n",
       "165528   2322008  Liquid  Astralis\n",
       "184870   2320079  Liquid  Astralis\n",
       "188388   2319665  Liquid  Astralis\n",
       "204963   2317641  Liquid  Astralis\n",
       "219936   2316285  Liquid  Astralis\n",
       "230449   2314506  Liquid  Astralis\n",
       "236310   2314761  Liquid  Astralis\n",
       "236440   2314755  Liquid  Astralis\n",
       "260905   2311690  Liquid  Astralis\n",
       "261305   2311683  Liquid  Astralis\n",
       "301808   2307541  Liquid  Astralis\n",
       "310456   2306662  Liquid  Astralis"
      ]
     },
     "execution_count": 40,
     "metadata": {},
     "output_type": "execute_result"
    }
   ],
   "source": [
    "teams_df=players_df[['match_id','team','opponent']]\n",
    "teams_df=teams_df.drop_duplicates(subset=['match_id'])\n",
    "#team_count_df=teams_df.groupby(['team','opponent']).count()\n",
    "team= (teams_df.team==\"Liquid\") | (teams_df.team==\"Astralis\")\n",
    "opponent=(teams_df.opponent==\"Liquid\") | (teams_df.opponent==\"Astralis\")\n",
    "new_team= team & opponent\n",
    "short_df=teams_df[new_team]\n",
    "short_df\n",
    "#team_count"
   ]
  },
  {
   "cell_type": "markdown",
   "metadata": {},
   "source": [
    "### Liquid and Astralis have played 35 times\n"
   ]
  },
  {
   "cell_type": "markdown",
   "metadata": {},
   "source": [
    "#### Q5: TODO - Which player has the most games"
   ]
  },
  {
   "cell_type": "code",
   "execution_count": 41,
   "metadata": {},
   "outputs": [
    {
     "data": {
      "text/html": [
       "<div>\n",
       "<style scoped>\n",
       "    .dataframe tbody tr th:only-of-type {\n",
       "        vertical-align: middle;\n",
       "    }\n",
       "\n",
       "    .dataframe tbody tr th {\n",
       "        vertical-align: top;\n",
       "    }\n",
       "\n",
       "    .dataframe thead th {\n",
       "        text-align: right;\n",
       "    }\n",
       "</style>\n",
       "<table border=\"1\" class=\"dataframe\">\n",
       "  <thead>\n",
       "    <tr style=\"text-align: right;\">\n",
       "      <th></th>\n",
       "      <th>match_id</th>\n",
       "      <th>player_id</th>\n",
       "    </tr>\n",
       "    <tr>\n",
       "      <th>player_name</th>\n",
       "      <th></th>\n",
       "      <th></th>\n",
       "    </tr>\n",
       "  </thead>\n",
       "  <tbody>\n",
       "    <tr>\n",
       "      <th>ALEX</th>\n",
       "      <td>887</td>\n",
       "      <td>887</td>\n",
       "    </tr>\n",
       "    <tr>\n",
       "      <th>steel</th>\n",
       "      <td>809</td>\n",
       "      <td>809</td>\n",
       "    </tr>\n",
       "    <tr>\n",
       "      <th>Furlan</th>\n",
       "      <td>752</td>\n",
       "      <td>752</td>\n",
       "    </tr>\n",
       "    <tr>\n",
       "      <th>rain</th>\n",
       "      <td>733</td>\n",
       "      <td>733</td>\n",
       "    </tr>\n",
       "    <tr>\n",
       "      <th>HUNDEN</th>\n",
       "      <td>726</td>\n",
       "      <td>726</td>\n",
       "    </tr>\n",
       "    <tr>\n",
       "      <th>...</th>\n",
       "      <td>...</td>\n",
       "      <td>...</td>\n",
       "    </tr>\n",
       "    <tr>\n",
       "      <th>Trysoft</th>\n",
       "      <td>1</td>\n",
       "      <td>1</td>\n",
       "    </tr>\n",
       "    <tr>\n",
       "      <th>0wl</th>\n",
       "      <td>1</td>\n",
       "      <td>1</td>\n",
       "    </tr>\n",
       "    <tr>\n",
       "      <th>supahershey</th>\n",
       "      <td>1</td>\n",
       "      <td>1</td>\n",
       "    </tr>\n",
       "    <tr>\n",
       "      <th>Maxxyy</th>\n",
       "      <td>1</td>\n",
       "      <td>1</td>\n",
       "    </tr>\n",
       "    <tr>\n",
       "      <th>Imaginal</th>\n",
       "      <td>1</td>\n",
       "      <td>1</td>\n",
       "    </tr>\n",
       "  </tbody>\n",
       "</table>\n",
       "<p>11991 rows × 2 columns</p>\n",
       "</div>"
      ],
      "text/plain": [
       "             match_id  player_id\n",
       "player_name                     \n",
       "ALEX              887        887\n",
       "steel             809        809\n",
       "Furlan            752        752\n",
       "rain              733        733\n",
       "HUNDEN            726        726\n",
       "...               ...        ...\n",
       "Trysoft             1          1\n",
       "0wl                 1          1\n",
       "supahershey         1          1\n",
       "Maxxyy              1          1\n",
       "Imaginal            1          1\n",
       "\n",
       "[11991 rows x 2 columns]"
      ]
     },
     "execution_count": 41,
     "metadata": {},
     "output_type": "execute_result"
    }
   ],
   "source": [
    "ind_player_df=players_df[['match_id','player_id','player_name']]\n",
    "most_df = ind_player_df.groupby('player_name',sort=False).count()\n",
    "most_df.sort_values('match_id',ascending=False)\n",
    "#ind_player_df=ind_player_df.groupby('player_name')['match_id'].count()\n",
    "\n",
    "#ind_player_df['count']=ind_player_df.groupby('player_id').transform('count')"
   ]
  },
  {
   "cell_type": "markdown",
   "metadata": {},
   "source": [
    "### The player with most games is ALEX\n"
   ]
  },
  {
   "cell_type": "markdown",
   "metadata": {},
   "source": [
    "Let us save and upload our work to Jovian before continuing."
   ]
  },
  {
   "cell_type": "code",
   "execution_count": 42,
   "metadata": {},
   "outputs": [],
   "source": [
    "import jovian"
   ]
  },
  {
   "cell_type": "code",
   "execution_count": 43,
   "metadata": {},
   "outputs": [
    {
     "data": {
      "application/javascript": [
       "window.require && require([\"base/js/namespace\"],function(Jupyter){Jupyter.notebook.save_checkpoint()})"
      ],
      "text/plain": [
       "<IPython.core.display.Javascript object>"
      ]
     },
     "metadata": {},
     "output_type": "display_data"
    },
    {
     "name": "stdout",
     "output_type": "stream",
     "text": [
      "[jovian] Updating notebook \"christian-cisneros-f/zerotopandas-csgo-analysis-project\" on https://jovian.ai\u001b[0m\n",
      "[jovian] Committed successfully! https://jovian.ai/christian-cisneros-f/zerotopandas-csgo-analysis-project\u001b[0m\n"
     ]
    },
    {
     "data": {
      "text/plain": [
       "'https://jovian.ai/christian-cisneros-f/zerotopandas-csgo-analysis-project'"
      ]
     },
     "execution_count": 43,
     "metadata": {},
     "output_type": "execute_result"
    }
   ],
   "source": [
    "jovian.commit()"
   ]
  },
  {
   "cell_type": "markdown",
   "metadata": {},
   "source": [
    "## Inferences and Conclusion\n",
    "\n",
    "**TODO** -\n",
    "It was a difficult dataset for me because i didnt really use all the rows as they were really dull. \n",
    "Hopefully i can master pandas and visualization libraries in the future\n",
    "\n",
    "I found interesting that the country that had the most matches played was USA, i say this because USA hasn't really been a big csgo competitor over the years but this might be because americans participate more in the smaller leagues than other countries\n",
    "In conclusion this was a fun dataset because it is a game that i know about and knowing what the columns meaning were was really helpful when doing an analysis."
   ]
  },
  {
   "cell_type": "code",
   "execution_count": 44,
   "metadata": {},
   "outputs": [],
   "source": [
    "import jovian"
   ]
  },
  {
   "cell_type": "code",
   "execution_count": 45,
   "metadata": {},
   "outputs": [
    {
     "data": {
      "application/javascript": [
       "window.require && require([\"base/js/namespace\"],function(Jupyter){Jupyter.notebook.save_checkpoint()})"
      ],
      "text/plain": [
       "<IPython.core.display.Javascript object>"
      ]
     },
     "metadata": {},
     "output_type": "display_data"
    },
    {
     "name": "stdout",
     "output_type": "stream",
     "text": [
      "[jovian] Updating notebook \"christian-cisneros-f/zerotopandas-csgo-analysis-project\" on https://jovian.ai\u001b[0m\n",
      "[jovian] Committed successfully! https://jovian.ai/christian-cisneros-f/zerotopandas-csgo-analysis-project\u001b[0m\n"
     ]
    },
    {
     "data": {
      "text/plain": [
       "'https://jovian.ai/christian-cisneros-f/zerotopandas-csgo-analysis-project'"
      ]
     },
     "execution_count": 45,
     "metadata": {},
     "output_type": "execute_result"
    }
   ],
   "source": [
    "jovian.commit()"
   ]
  },
  {
   "cell_type": "markdown",
   "metadata": {},
   "source": [
    "## References and Future Work\n",
    "\n",
    "**TODO** - \n",
    "Im gonna do more analysis of covid dataset for my country Perú which can be seen in the link below:\n",
    "\n",
    "https://jovian.ai/christian-cisneros-f/covid-19-peru\n",
    "\n",
    "Im just beggining but hopefully i make a great job in the future as i want to start my path into becoming a data analyst after i finish university\n",
    "\n",
    "#### References:\n",
    "- https://pandas.pydata.org/docs/user_guide/index.html#user-guide\n",
    "- https://matplotlib.org/stable/tutorials/introductory/usage.html\n",
    "- stackoverflow.com\n",
    "- And of course this helpful Course\n",
    "\n"
   ]
  },
  {
   "cell_type": "code",
   "execution_count": 46,
   "metadata": {},
   "outputs": [],
   "source": [
    "import jovian"
   ]
  },
  {
   "cell_type": "code",
   "execution_count": null,
   "metadata": {
    "scrolled": true
   },
   "outputs": [
    {
     "data": {
      "application/javascript": [
       "window.require && require([\"base/js/namespace\"],function(Jupyter){Jupyter.notebook.save_checkpoint()})"
      ],
      "text/plain": [
       "<IPython.core.display.Javascript object>"
      ]
     },
     "metadata": {},
     "output_type": "display_data"
    }
   ],
   "source": [
    "jovian.commit()"
   ]
  }
 ],
 "metadata": {
  "language_info": {
   "codemirror_mode": {
    "name": "ipython",
    "version": 3
   },
   "file_extension": ".py",
   "mimetype": "text/x-python",
   "name": "python",
   "nbconvert_exporter": "python",
   "pygments_lexer": "ipython3",
   "version": "3.9.6"
  }
 },
 "nbformat": 4,
 "nbformat_minor": 4
}